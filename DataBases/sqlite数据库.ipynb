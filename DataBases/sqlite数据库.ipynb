{
 "cells": [
  {
   "cell_type": "code",
   "execution_count": 4,
   "metadata": {
    "collapsed": true
   },
   "outputs": [],
   "source": [
    "import sqlite3\n",
    "from sqlalchemy import create_engine"
   ]
  },
  {
   "cell_type": "code",
   "execution_count": 2,
   "metadata": {
    "collapsed": true
   },
   "outputs": [],
   "source": [
    "#建立数据库\n",
    "conn = sqlite3.connect('pd.sqlite')\n",
    "c = conn.cursor()\n",
    "c.execute('DROP TABLE IF EXISTS pd_data')\n",
    "c.execute('CREATE TABLE pd_data ( \\\n",
    "    pd_location   INTEGER, \\\n",
    "    signal_width  INTEGER, \\\n",
    "    rise_time INTEGER, \\\n",
    "    fall_time INTEGER, \\\n",
    "    peak_voltage  INTEGER, \\\n",
    "    polarity  INTEGER, \\\n",
    "    mean_voltage  INTEGER, \\\n",
    "    rms   INTEGER, \\\n",
    "    sd    INTEGER, \\\n",
    "    skewness  INTEGER, \\\n",
    "    kurtosis  INTEGER, \\\n",
    "    crest INTEGER, \\\n",
    "    form_factor   INTEGER, \\\n",
    "    MainFreq  INTEGER, \\\n",
    "    phase_angle   INTEGER, \\\n",
    "    T INTEGER, \\\n",
    "    W INTEGER, \\\n",
    "    pC    INTEGER, \\\n",
    "    pd_class  INTEGER )')\n",
    "conn.commit()\n",
    "conn.close()"
   ]
  },
  {
   "cell_type": "code",
   "execution_count": 9,
   "metadata": {
    "collapsed": true
   },
   "outputs": [],
   "source": [
    "#用panda写入数据\n",
    "d = pd.read_csv(\"../2C4KPdNoise.csv\")\n",
    "disk_engine = create_engine('sqlite:///pd.sqlite') \n",
    "d.to_sql('pd_data', disk_engine, if_exists='append',index=False)"
   ]
  },
  {
   "cell_type": "code",
   "execution_count": 12,
   "metadata": {
    "collapsed": false
   },
   "outputs": [
    {
     "name": "stdout",
     "output_type": "stream",
     "text": [
      "tom tom tom\n",
      "john john john\n"
     ]
    },
    {
     "name": "stderr",
     "output_type": "stream",
     "text": [
      "C:\\Users\\younggy\\Anaconda\\envs\\python3\\lib\\site-packages\\ipykernel\\__main__.py:3: SADeprecationWarning: reflect=True is deprecate; please use the reflect() method.\n",
      "  app.launch_new_instance()\n"
     ]
    }
   ],
   "source": [
    "from sqlalchemy import create_engine, MetaData \n",
    "engine = create_engine('sqlite:///pd.sqlite')\n",
    "#metadata = MetaData(bind=engine, reflect=True)\n",
    "conn = engine.connect()\n",
    "# 创建表\n",
    "conn.execute('CREATE TABLE IF NOT EXISTS user(name VARCHAR, password VARCHAR)')\n",
    "# 创建数据\n",
    "conn.execute('INSERT INTO user(name, password) VALUES(?, ?)', (('tom', '123'), ('john', '321')))\n",
    "# 查询\n",
    "for row in conn.execute('SELECT * FROM user'):\n",
    "    print (row.name, row['name'], row[0])"
   ]
  }
 ],
 "metadata": {
  "kernelspec": {
   "display_name": "Python 3",
   "language": "python",
   "name": "python3"
  },
  "language_info": {
   "codemirror_mode": {
    "name": "ipython",
    "version": 3
   },
   "file_extension": ".py",
   "mimetype": "text/x-python",
   "name": "python",
   "nbconvert_exporter": "python",
   "pygments_lexer": "ipython3",
   "version": "3.5.1"
  }
 },
 "nbformat": 4,
 "nbformat_minor": 0
}
