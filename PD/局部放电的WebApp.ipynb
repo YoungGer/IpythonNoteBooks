{
 "cells": [
  {
   "cell_type": "markdown",
   "metadata": {},
   "source": [
    "# 训练模型"
   ]
  },
  {
   "cell_type": "code",
   "execution_count": 401,
   "metadata": {
    "collapsed": false
   },
   "outputs": [
    {
     "name": "stdout",
     "output_type": "stream",
     "text": [
      "X_train shape: (1600, 18)\n",
      "X_test  shape: (400, 18)\n",
      "Y_train shape: (1600,)\n",
      "Y_test  shape: (400,)\n"
     ]
    }
   ],
   "source": [
    "# 导入数据\n",
    "d = pd.read_csv(\"2C4KPdNoise.csv\")\n",
    "\n",
    "# 训练集和测试集划分\n",
    "from sklearn.cross_validation import train_test_split\n",
    "n1 = d.shape[1]-1\n",
    "X, y = d.iloc[:, 0:n1].values, d.iloc[:, n1].values\n",
    "X_train, X_test, y_train, y_test = \\\n",
    "        train_test_split(X, y, test_size=0.2, random_state=0)\n",
    "print (\"X_train shape:\",X_train.shape) \n",
    "print (\"X_test  shape:\",X_test.shape) \n",
    "print (\"Y_train shape:\",y_train.shape) \n",
    "print (\"Y_test  shape:\",y_test.shape) "
   ]
  },
  {
   "cell_type": "code",
   "execution_count": 203,
   "metadata": {
    "collapsed": false
   },
   "outputs": [
    {
     "data": {
      "text/plain": [
       "array([[  1.38899300e+06,   1.50000000e+01,   4.00000000e+00, ...,\n",
       "          2.23168500e+01,   1.35612900e+01,   4.65606000e+01],\n",
       "       [  1.20727300e+06,   1.80000000e+01,   8.00000000e+00, ...,\n",
       "          2.75384700e+01,   6.30489500e+00,   7.40933400e+01],\n",
       "       [  1.28979600e+06,   1.30000000e+01,   5.00000000e+00, ...,\n",
       "          2.07417700e+01,   1.19740900e+01,   2.34451500e+02],\n",
       "       ..., \n",
       "       [  5.16846000e+05,   1.10000000e+01,   4.00000000e+00, ...,\n",
       "          1.76379100e+01,   1.93581700e+01,   3.35311800e+01],\n",
       "       [  3.49382000e+05,   1.70000000e+01,   7.00000000e+00, ...,\n",
       "          2.53679000e+01,   7.46640100e+00,   4.24572200e+01],\n",
       "       [  3.91965000e+05,   1.60000000e+01,   4.00000000e+00, ...,\n",
       "          2.51039000e+01,   8.19313800e+00,   4.59102200e+02]])"
      ]
     },
     "execution_count": 203,
     "metadata": {},
     "output_type": "execute_result"
    }
   ],
   "source": [
    "X_train"
   ]
  },
  {
   "cell_type": "code",
   "execution_count": 199,
   "metadata": {
    "collapsed": false,
    "scrolled": true
   },
   "outputs": [
    {
     "data": {
      "text/plain": [
       "array([[  3.95197000e+05,   1.70000000e+01,   9.00000000e+00, ...,\n",
       "          2.70542200e+01,   7.78568800e+00,   2.95235300e+01],\n",
       "       [  2.16632000e+05,   1.70000000e+01,   4.00000000e+00, ...,\n",
       "          2.79565800e+01,   9.43869300e+00,   1.09992200e+02],\n",
       "       [  9.82882000e+05,   1.60000000e+01,   6.00000000e+00, ...,\n",
       "          2.52976700e+01,   7.61000600e+00,   7.91965600e+01],\n",
       "       ..., \n",
       "       [  1.24377200e+06,   1.20000000e+01,   4.00000000e+00, ...,\n",
       "          1.78536500e+01,   1.76843700e+01,   7.25958500e+02],\n",
       "       [  2.79615000e+05,   1.70000000e+01,   8.00000000e+00, ...,\n",
       "          2.59784800e+01,   6.58286100e+00,   2.80064700e+02],\n",
       "       [  1.25458300e+06,   1.40000000e+01,   4.00000000e+00, ...,\n",
       "          2.06450900e+01,   9.73513400e+00,   3.04416500e+01]])"
      ]
     },
     "execution_count": 199,
     "metadata": {},
     "output_type": "execute_result"
    }
   ],
   "source": [
    "X_test"
   ]
  },
  {
   "cell_type": "code",
   "execution_count": 22,
   "metadata": {
    "collapsed": false
   },
   "outputs": [
    {
     "name": "stdout",
     "output_type": "stream",
     "text": [
      "Test Accuracy: 0.752\n"
     ]
    }
   ],
   "source": [
    "# 定义pipeline\n",
    "from sklearn.preprocessing import StandardScaler\n",
    "from sklearn.decomposition import PCA\n",
    "from sklearn.linear_model import LogisticRegression\n",
    "from sklearn.pipeline import Pipeline\n",
    "\n",
    "pipe_lr = Pipeline([('scl', StandardScaler()),\n",
    "            ('clf', LogisticRegression(random_state=1))])\n",
    "pipe_lr.fit(X_train, y_train)\n",
    "print('Test Accuracy: %.3f' % pipe_lr.score(X_test, y_test))"
   ]
  },
  {
   "cell_type": "code",
   "execution_count": 27,
   "metadata": {
    "collapsed": false
   },
   "outputs": [
    {
     "name": "stdout",
     "output_type": "stream",
     "text": [
      "CV accuracy scores: [ 0.74074074  0.72222222  0.77160494  0.7962963   0.75        0.78616352\n",
      "  0.75471698  0.79245283  0.7278481   0.75796178]\n",
      "CV accuracy: 0.760 +/- 0.025\n"
     ]
    }
   ],
   "source": [
    "# 利用交叉验证获取模型较好的参数\n",
    "from sklearn.cross_validation import cross_val_score\n",
    "\n",
    "scores = cross_val_score(estimator=pipe_lr, \n",
    "                         X=X_train, \n",
    "                         y=y_train, \n",
    "                         cv=10,\n",
    "                         n_jobs=-1)\n",
    "print('CV accuracy scores: %s' % scores)\n",
    "print('CV accuracy: %.3f +/- %.3f' % (np.mean(scores), np.std(scores)))"
   ]
  },
  {
   "cell_type": "code",
   "execution_count": 37,
   "metadata": {
    "collapsed": false
   },
   "outputs": [
    {
     "data": {
      "image/png": "[encoded data removed]",
      "text/plain": [
       "<matplotlib.figure.Figure at 0x25efdbfb2e8>"
      ]
     },
     "metadata": {},
     "output_type": "display_data"
    }
   ],
   "source": [
    "# 使用learning curve来评估bias和variance\n",
    "%matplotlib inline\n",
    "import matplotlib.pyplot as plt\n",
    "from sklearn.learning_curve import learning_curve\n",
    "\n",
    "pipe_lr = Pipeline([('scl', StandardScaler()),\n",
    "            ('clf', LogisticRegression(penalty='l2', random_state=0))])\n",
    "\n",
    "train_sizes, train_scores, test_scores =\\\n",
    "                learning_curve(estimator=pipe_lr, \n",
    "                X=X_train, \n",
    "                y=y_train, \n",
    "                train_sizes=np.linspace(0.1, 1.0, 10), \n",
    "                cv=11,\n",
    "                n_jobs=1)\n",
    "\n",
    "train_mean = np.mean(train_scores, axis=1)\n",
    "train_std = np.std(train_scores, axis=1)\n",
    "test_mean = np.mean(test_scores, axis=1)\n",
    "test_std = np.std(test_scores, axis=1)\n",
    "\n",
    "plt.plot(train_sizes, train_mean, \n",
    "         color='blue', marker='o', \n",
    "         markersize=5, label='training accuracy')\n",
    "\n",
    "plt.fill_between(train_sizes, \n",
    "                 train_mean + train_std,\n",
    "                 train_mean - train_std, \n",
    "                 alpha=0.15, color='blue')\n",
    "\n",
    "plt.plot(train_sizes, test_mean, \n",
    "         color='green', linestyle='--', \n",
    "         marker='s', markersize=5, \n",
    "         label='validation accuracy')\n",
    "\n",
    "plt.fill_between(train_sizes, \n",
    "                 test_mean + test_std,\n",
    "                 test_mean - test_std, \n",
    "                 alpha=0.15, color='green')\n",
    "\n",
    "plt.grid()\n",
    "plt.xlabel('Number of training samples')\n",
    "plt.ylabel('Accuracy')\n",
    "plt.legend(loc='lower right')\n",
    "plt.ylim([0.6, 0.8])\n",
    "plt.tight_layout()\n",
    "# plt.savefig('./figures/learning_curve.png', dpi=300)\n",
    "plt.show()"
   ]
  },
  {
   "cell_type": "code",
   "execution_count": 39,
   "metadata": {
    "collapsed": false,
    "scrolled": true
   },
   "outputs": [
    {
     "data": {
      "image/png": "[encoded data removed]",
      "text/plain": [
       "<matplotlib.figure.Figure at 0x25efdbbac50>"
      ]
     },
     "metadata": {},
     "output_type": "display_data"
    }
   ],
   "source": [
    "# 从validation curve评定参数\n",
    "from sklearn.learning_curve import validation_curve\n",
    "\n",
    "param_range = [0.001, 0.01, 0.1, 1.0, 10.0, 100.0]\n",
    "train_scores, test_scores = validation_curve(\n",
    "                estimator=pipe_lr, \n",
    "                X=X_train, \n",
    "                y=y_train, \n",
    "                param_name='clf__C', \n",
    "                param_range=param_range,\n",
    "                cv=10)\n",
    "\n",
    "train_mean = np.mean(train_scores, axis=1)\n",
    "train_std = np.std(train_scores, axis=1)\n",
    "test_mean = np.mean(test_scores, axis=1)\n",
    "test_std = np.std(test_scores, axis=1)\n",
    "\n",
    "plt.plot(param_range, train_mean, \n",
    "         color='blue', marker='o', \n",
    "         markersize=5, label='training accuracy')\n",
    "\n",
    "plt.fill_between(param_range, train_mean + train_std,\n",
    "                 train_mean - train_std, alpha=0.15,\n",
    "                 color='blue')\n",
    "\n",
    "plt.plot(param_range, test_mean, \n",
    "         color='green', linestyle='--', \n",
    "         marker='s', markersize=5, \n",
    "         label='validation accuracy')\n",
    "\n",
    "plt.fill_between(param_range, \n",
    "                 test_mean + test_std,\n",
    "                 test_mean - test_std, \n",
    "                 alpha=0.15, color='green')\n",
    "\n",
    "plt.grid()\n",
    "plt.xscale('log')\n",
    "plt.legend(loc='lower right')\n",
    "plt.xlabel('Parameter C')\n",
    "plt.ylabel('Accuracy')\n",
    "plt.ylim([0, 1.0])\n",
    "plt.tight_layout()\n",
    "# plt.savefig('./figures/validation_curve.png', dpi=300)\n",
    "plt.show()"
   ]
  },
  {
   "cell_type": "markdown",
   "metadata": {},
   "source": [
    "# SGD模型设置\n"
   ]
  },
  {
   "cell_type": "markdown",
   "metadata": {},
   "source": [
    "## 单独跑下SGD"
   ]
  },
  {
   "cell_type": "code",
   "execution_count": 355,
   "metadata": {
    "collapsed": false
   },
   "outputs": [],
   "source": [
    "clf = SGDClassifier(loss='modified_huber', random_state=1, n_iter=1)\n",
    "scl = StandardScaler()\n",
    "X_train_scl = scl.fit_transform(X_train)\n",
    "X_test_scl = scl.transform(X_test)"
   ]
  },
  {
   "cell_type": "code",
   "execution_count": 356,
   "metadata": {
    "collapsed": false
   },
   "outputs": [
    {
     "name": "stderr",
     "output_type": "stream",
     "text": [
      "0%                          100%\n",
      "[##############################] | ETA: 00:00:00\n",
      "Total time elapsed: 00:00:16\n"
     ]
    }
   ],
   "source": [
    "pbar = pyprind.ProgBar(10000)\n",
    "classes = np.array([1,2,3,4,5])\n",
    "for _ in range(10000):\n",
    "    clf.partial_fit(X_train_sc1,y_train,classes=classes)\n",
    "    pbar.update()"
   ]
  },
  {
   "cell_type": "code",
   "execution_count": 357,
   "metadata": {
    "collapsed": false
   },
   "outputs": [
    {
     "data": {
      "text/plain": [
       "0.77500000000000002"
      ]
     },
     "execution_count": 357,
     "metadata": {},
     "output_type": "execute_result"
    }
   ],
   "source": [
    "clf.score(X_test_scl,y_test)"
   ]
  },
  {
   "cell_type": "code",
   "execution_count": 358,
   "metadata": {
    "collapsed": false
   },
   "outputs": [
    {
     "data": {
      "text/plain": [
       "0.78187499999999999"
      ]
     },
     "execution_count": 358,
     "metadata": {},
     "output_type": "execute_result"
    }
   ],
   "source": [
    "clf.score(X_train_sc1,y_train)"
   ]
  },
  {
   "cell_type": "markdown",
   "metadata": {},
   "source": [
    "## 为后面的app开发做铺垫"
   ]
  },
  {
   "cell_type": "code",
   "execution_count": null,
   "metadata": {
    "collapsed": true
   },
   "outputs": [],
   "source": [
    "def stream_docs(path):\n",
    "    while True:\n",
    "        with open(path, 'r') as csv:\n",
    "            next(csv) # skip header\n",
    "            for line in csv:\n",
    "                data = [float(i) for i in line.strip().split(',')]\n",
    "                x = data[:-1]\n",
    "                y = data[-1]\n",
    "                yield x, y \n",
    "\n",
    "            \n",
    "def get_minibatch(doc_stream, size):\n",
    "    X, Y = [], []\n",
    "    try:\n",
    "        for _ in range(size):\n",
    "            x, y = next(doc_stream)\n",
    "            X.append(x)\n",
    "            Y.append(y)\n",
    "    except StopIteration:\n",
    "        return None, None\n",
    "    return np.array(X), np.array(Y)"
   ]
  },
  {
   "cell_type": "code",
   "execution_count": 402,
   "metadata": {
    "collapsed": false
   },
   "outputs": [
    {
     "name": "stderr",
     "output_type": "stream",
     "text": [
      "0%                          100%\n",
      "[##############################] | ETA: 00:00:00\n",
      "Total time elapsed: 00:00:28\n"
     ]
    }
   ],
   "source": [
    "scl = StandardScaler()\n",
    "clf = SGDClassifier(loss='modified_huber', random_state=1, n_iter=1)\n",
    "doc_stream = stream_docs('2C4KPdNoise.csv')\n",
    "\n",
    "X_train_scl = scl.fit_transform(X_train)\n",
    "X_test_scl = scl.transform(X_test)\n",
    "\n",
    "classes = np.array([1,2,3,4,5])\n",
    "\n",
    "import pyprind\n",
    "pbar = pyprind.ProgBar(1000)\n",
    "\n",
    "for _ in range(1000):\n",
    "    #获取batch文件\n",
    "    mini_x, mini_y = get_minibatch(doc_stream, size=2000)\n",
    "    #对batch文件进行处理\n",
    "    mini_x = scl.transform(mini_x)\n",
    "    if type(mini_x) == type(None):\n",
    "        break\n",
    "#     print (_)\n",
    "    clf.partial_fit(mini_x, mini_y, classes=classes)\n",
    "    pbar.update()"
   ]
  },
  {
   "cell_type": "code",
   "execution_count": 407,
   "metadata": {
    "collapsed": false
   },
   "outputs": [
    {
     "data": {
      "text/plain": [
       "0.78000000000000003"
      ]
     },
     "execution_count": 407,
     "metadata": {},
     "output_type": "execute_result"
    }
   ],
   "source": [
    "clf.score(X_test_scl,y_test)"
   ]
  },
  {
   "cell_type": "markdown",
   "metadata": {},
   "source": [
    "# WebApp设置"
   ]
  },
  {
   "cell_type": "code",
   "execution_count": 410,
   "metadata": {
    "collapsed": false
   },
   "outputs": [
    {
     "data": {
      "text/plain": [
       "'pdclassifier\\\\pkl_objects'"
      ]
     },
     "execution_count": 410,
     "metadata": {},
     "output_type": "execute_result"
    }
   ],
   "source": [
    "dest"
   ]
  },
  {
   "cell_type": "code",
   "execution_count": 411,
   "metadata": {
    "collapsed": false
   },
   "outputs": [],
   "source": [
    "import pickle\n",
    "import os\n",
    "dest = os.path.join('pdclassifier', 'pkl_objects')\n",
    "if not os.path.exists(dest):\n",
    "    os.makedirs(dest)\n",
    "pickle.dump(scl, open(os.path.join(dest, 'scaler.pkl'), 'wb'), protocol=4)   \n",
    "pickle.dump(clf, open(os.path.join(dest, 'classifier.pkl'), 'wb'), protocol=4)"
   ]
  },
  {
   "cell_type": "code",
   "execution_count": null,
   "metadata": {
    "collapsed": true
   },
   "outputs": [],
   "source": [
    "%%writefile pdclassifier/vectorizer.py\n",
    "from sklearn.feature_extraction.text import HashingVectorizer\n",
    "import re\n",
    "import os\n",
    "import pickle\n",
    "\n",
    "cur_dir = os.path.dirname(__file__)\n",
    "stop = pickle.load(open(\n",
    "                os.path.join(cur_dir, \n",
    "                'pkl_objects', \n",
    "                'stopwords.pkl'), 'rb'))\n",
    "\n",
    "def tokenizer(text):\n",
    "    text = re.sub('<[^>]*>', '', text)\n",
    "    emoticons = re.findall('(?::|;|=)(?:-)?(?:\\)|\\(|D|P)',\n",
    "                           text.lower())\n",
    "    text = re.sub('[\\W]+', ' ', text.lower()) \\\n",
    "                   + ' '.join(emoticons).replace('-', '')\n",
    "    tokenized = [w for w in text.split() if w not in stop]\n",
    "    return tokenized\n",
    "\n",
    "vect = HashingVectorizer(decode_error='ignore',\n",
    "                         n_features=2**21,\n",
    "                         preprocessor=None,\n",
    "                         tokenizer=tokenizer)"
   ]
  },
  {
   "cell_type": "code",
   "execution_count": 416,
   "metadata": {
    "collapsed": true
   },
   "outputs": [],
   "source": [
    "import pickle\n",
    "import re\n",
    "import os\n",
    "\n",
    "scl = pickle.load(open(os.path.join('pkl_objects', 'scaler.pkl'), 'rb'))\n",
    "clf = pickle.load(open(os.path.join('pkl_objects', 'classifier.pkl'), 'rb'))"
   ]
  },
  {
   "cell_type": "markdown",
   "metadata": {},
   "source": [
    "## 建立SQL数据库"
   ]
  },
  {
   "cell_type": "code",
   "execution_count": 458,
   "metadata": {
    "collapsed": true
   },
   "outputs": [],
   "source": [
    "import sqlite3\n",
    "\n",
    "conn = sqlite3.connect('pd.sqlite')\n",
    "\n",
    "c = conn.cursor()\n",
    "c.execute('DROP TABLE IF EXISTS pd_data')\n",
    "c.execute('CREATE TABLE pd_data ( \\\n",
    "    pd_location   INTEGER, \\\n",
    "    signal_width  INTEGER, \\\n",
    "    rise_time INTEGER, \\\n",
    "    fall_time INTEGER, \\\n",
    "    peak_voltage  INTEGER, \\\n",
    "    polarity  INTEGER, \\\n",
    "    mean_voltage  INTEGER, \\\n",
    "    rms   INTEGER, \\\n",
    "    sd    INTEGER, \\\n",
    "    skewness  INTEGER, \\\n",
    "    kurtosis  INTEGER, \\\n",
    "    crest INTEGER, \\\n",
    "    form_factor   INTEGER, \\\n",
    "    MainFreq  INTEGER, \\\n",
    "    phase_angle   INTEGER, \\\n",
    "    T INTEGER, \\\n",
    "    W INTEGER, \\\n",
    "    pC    INTEGER, \\\n",
    "    pd_class  INTEGER )')\n",
    "conn.commit()\n",
    "conn.close()\n",
    "\n",
    "disk_engine = create_engine('sqlite:///pd.sqlite') # Initializes database with filename 311_8M.db in current directory\n",
    "d.to_sql('pd_data', disk_engine, if_exists='append',index=False)"
   ]
  },
  {
   "cell_type": "code",
   "execution_count": 498,
   "metadata": {
    "collapsed": false
   },
   "outputs": [],
   "source": [
    "conn = sqlite3.connect('pd.sqlite')\n",
    "c = conn.cursor()"
   ]
  },
  {
   "cell_type": "code",
   "execution_count": 511,
   "metadata": {
    "collapsed": false
   },
   "outputs": [
    {
     "data": {
      "text/plain": [
       "<sqlite3.Cursor at 0x25eff2f9c70>"
      ]
     },
     "execution_count": 511,
     "metadata": {},
     "output_type": "execute_result"
    }
   ],
   "source": [
    "c.execute(\"INSERT INTO pd_data (pd_location, signal_width, rise_time, fall_time, peak_voltage,polarity, mean_voltage, rms, sd, skewness, kurtosis,crest, form_factor, MainFreq, phase_angle, T, W, pC,pd_class)\"\\\n",
    "\t    \" VALUES (?,?,?,?,?,?,?,?,?,?,?,?,?,?,?,?,?,?,?)\", np.hstack([data,y]))"
   ]
  },
  {
   "cell_type": "code",
   "execution_count": 512,
   "metadata": {
    "collapsed": true
   },
   "outputs": [],
   "source": [
    "conn.commit()\n",
    "conn.close()"
   ]
  }
 ],
 "metadata": {
  "kernelspec": {
   "display_name": "Python 3",
   "language": "python",
   "name": "python3"
  },
  "language_info": {
   "codemirror_mode": {
    "name": "ipython",
    "version": 3
   },
   "file_extension": ".py",
   "mimetype": "text/x-python",
   "name": "python",
   "nbconvert_exporter": "python",
   "pygments_lexer": "ipython3",
   "version": "3.5.1"
  }
 },
 "nbformat": 4,
 "nbformat_minor": 0
}
